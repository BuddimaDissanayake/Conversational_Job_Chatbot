{
 "cells": [
  {
   "cell_type": "code",
   "execution_count": 1,
   "id": "008cefcc",
   "metadata": {},
   "outputs": [],
   "source": [
    "\n",
    "import os\n",
    "import pandas as pd\n",
    "from langchain_community.llms import Ollama\n",
    "from langchain.prompts import PromptTemplate\n",
    "from langchain.chains import LLMChain\n",
    "from langchain.schema import Document\n",
    "from langchain.vectorstores import Chroma\n",
    "from langchain.embeddings import HuggingFaceEmbeddings\n"
   ]
  },
  {
   "cell_type": "code",
   "execution_count": 2,
   "id": "dd9e3c79",
   "metadata": {},
   "outputs": [],
   "source": [
    "\n",
    "# === CONFIG ===\n",
    "CSV_PATH = \"./data/job_descriptions_large.csv\"\n",
    "CHROMA_DIR = \"./chroma_db\"\n"
   ]
  },
  {
   "cell_type": "code",
   "execution_count": 3,
   "id": "587761e6",
   "metadata": {},
   "outputs": [
    {
     "name": "stdout",
     "output_type": "stream",
     "text": [
      "✅ Loading existing Chroma vector DB...\n"
     ]
    },
    {
     "name": "stderr",
     "output_type": "stream",
     "text": [
      "C:\\Users\\Buddima Dissanayake\\AppData\\Local\\Temp\\ipykernel_16560\\2771827101.py:17: LangChainDeprecationWarning: The class `HuggingFaceEmbeddings` was deprecated in LangChain 0.2.2 and will be removed in 1.0. An updated version of the class exists in the :class:`~langchain-huggingface package and should be used instead. To use it run `pip install -U :class:`~langchain-huggingface` and import as `from :class:`~langchain_huggingface import HuggingFaceEmbeddings``.\n",
      "  embedding = HuggingFaceEmbeddings(model_name=\"all-MiniLM-L6-v2\")\n",
      "f:\\FYP latest\\chatbot1\\env\\Lib\\site-packages\\tqdm\\auto.py:21: TqdmWarning: IProgress not found. Please update jupyter and ipywidgets. See https://ipywidgets.readthedocs.io/en/stable/user_install.html\n",
      "  from .autonotebook import tqdm as notebook_tqdm\n",
      "C:\\Users\\Buddima Dissanayake\\AppData\\Local\\Temp\\ipykernel_16560\\2771827101.py:18: LangChainDeprecationWarning: The class `Chroma` was deprecated in LangChain 0.2.9 and will be removed in 1.0. An updated version of the class exists in the :class:`~langchain-chroma package and should be used instead. To use it run `pip install -U :class:`~langchain-chroma` and import as `from :class:`~langchain_chroma import Chroma``.\n",
      "  vector_db = Chroma(persist_directory=CHROMA_DIR, embedding_function=embedding)\n"
     ]
    }
   ],
   "source": [
    "\n",
    "# === STEP 1: Prepare Vector Store ===\n",
    "if not os.path.exists(CHROMA_DIR):\n",
    "    print(\"📦 Creating new Chroma vector DB...\")\n",
    "    df = pd.read_csv(CSV_PATH)\n",
    "\n",
    "    # Convert rows to LangChain Documents\n",
    "    documents = [\n",
    "        Document(page_content=row[\"Description\"], metadata={\"title\": row[\"Job Title\"]})\n",
    "        for _, row in df.iterrows()\n",
    "    ]\n",
    "\n",
    "    embedding = HuggingFaceEmbeddings(model_name=\"all-MiniLM-L6-v2\")\n",
    "    vector_db = Chroma.from_documents(documents, embedding=embedding, persist_directory=CHROMA_DIR)\n",
    "    vector_db.persist()\n",
    "else:\n",
    "    print(\"✅ Loading existing Chroma vector DB...\")\n",
    "    embedding = HuggingFaceEmbeddings(model_name=\"all-MiniLM-L6-v2\")\n",
    "    vector_db = Chroma(persist_directory=CHROMA_DIR, embedding_function=embedding)\n"
   ]
  },
  {
   "cell_type": "code",
   "execution_count": 4,
   "id": "6ca4ce61",
   "metadata": {},
   "outputs": [
    {
     "name": "stderr",
     "output_type": "stream",
     "text": [
      "C:\\Users\\Buddima Dissanayake\\AppData\\Local\\Temp\\ipykernel_16560\\1143978823.py:2: LangChainDeprecationWarning: The class `Ollama` was deprecated in LangChain 0.3.1 and will be removed in 1.0.0. An updated version of the class exists in the :class:`~langchain-ollama package and should be used instead. To use it run `pip install -U :class:`~langchain-ollama` and import as `from :class:`~langchain_ollama import OllamaLLM``.\n",
      "  llm = Ollama(model=\"llama3\")\n",
      "C:\\Users\\Buddima Dissanayake\\AppData\\Local\\Temp\\ipykernel_16560\\1143978823.py:34: LangChainDeprecationWarning: The class `LLMChain` was deprecated in LangChain 0.1.17 and will be removed in 1.0. Use :meth:`~RunnableSequence, e.g., `prompt | llm`` instead.\n",
      "  chain = LLMChain(llm=llm, prompt=prompt_template)\n"
     ]
    }
   ],
   "source": [
    "\n",
    "# === STEP 2: Setup LLM & Prompt ===\n",
    "llm = Ollama(model=\"llama3\")\n",
    "\n",
    "prompt_template = PromptTemplate(\n",
    "    input_variables=[\"traits\", \"context\"],\n",
    "    template=\"\"\"\n",
    "You are an intelligent and concise career advisor.\n",
    "\n",
    "A candidate has shared these personality traits:\n",
    "{traits}\n",
    "\n",
    "Below are job role descriptions you may use as reference:\n",
    "{context}\n",
    "\n",
    "From the roles below, pick the single **best fit**:\n",
    "- Software Engineer (SE)\n",
    "- Quality Assurance Engineer (QA)\n",
    "- Business Analyst (BA)\n",
    "\n",
    "Your response must include:\n",
    "1. The best-fit role (SE, QA, or BA)\n",
    "2. 2-3 traits from the input that support the match\n",
    "3. A brief explanation in 2–3 sentences\n",
    "\n",
    "Respond in this exact format:\n",
    "\n",
    "[Recommended Role]: <SE / QA / BA>\n",
    "[Supporting Traits]: <trait1>, <trait2>, ...\n",
    "[Reasoning]: <short explanation>\n",
    "\"\"\"\n",
    ")\n",
    "\n",
    "\n",
    "chain = LLMChain(llm=llm, prompt=prompt_template)\n"
   ]
  },
  {
   "cell_type": "code",
   "execution_count": null,
   "id": "d137dda8",
   "metadata": {},
   "outputs": [
    {
     "name": "stdout",
     "output_type": "stream",
     "text": [
      "\n",
      "🧠 Job Recommendation Chatbot (type 'exit' to quit)\n",
      "\n"
     ]
    }
   ],
   "source": [
    "\n",
    "# === STEP 3: Conversational Loop ===\n",
    "print(\"\\n🧠 Job Recommendation Chatbot (type 'exit' to quit)\\n\")\n",
    "\n",
    "while True:\n",
    "    user_input = input(\"🧑‍💼 Describe your traits, behaviors, or preferences: \")\n",
    "    if user_input.lower() == \"exit\":\n",
    "        print(\"👋 Goodbye!\")\n",
    "        break\n",
    "\n",
    "    # Get similar job docs from vector DB\n",
    "    docs = vector_db.similarity_search(user_input, k=5)\n",
    "    context = \"\\n\\n\".join([doc.page_content for doc in docs])\n",
    "\n",
    "    try:\n",
    "        result = chain.run(traits=user_input, context=context)\n",
    "        print(\"\\n🤖 Recommendation:\\n\", result)\n",
    "        print(\"-\" * 60)\n",
    "    except Exception as e:\n",
    "        print(\"⚠️ Error:\", e)\n"
   ]
  }
 ],
 "metadata": {
  "kernelspec": {
   "display_name": "env",
   "language": "python",
   "name": "python3"
  },
  "language_info": {
   "codemirror_mode": {
    "name": "ipython",
    "version": 3
   },
   "file_extension": ".py",
   "mimetype": "text/x-python",
   "name": "python",
   "nbconvert_exporter": "python",
   "pygments_lexer": "ipython3",
   "version": "3.13.2"
  }
 },
 "nbformat": 4,
 "nbformat_minor": 5
}
